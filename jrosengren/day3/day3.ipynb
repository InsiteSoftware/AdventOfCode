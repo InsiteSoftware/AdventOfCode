{
 "cells": [
  {
   "cell_type": "code",
   "execution_count": 35,
   "metadata": {},
   "outputs": [],
   "source": [
    "f = open(\"input\", \"r\")\n",
    "rucksacks = f.read().splitlines()"
   ]
  },
  {
   "cell_type": "code",
   "execution_count": 36,
   "metadata": {},
   "outputs": [
    {
     "name": "stdout",
     "output_type": "stream",
     "text": [
      "8153\n"
     ]
    }
   ],
   "source": [
    "# \"a\" = ord(\"a\") - 96\n",
    "# \"A\" = ord(\"A\") - 38\n",
    "total = 0\n",
    "for rucksack in rucksacks:\n",
    "  compartment1 = set(rucksack[0:len(rucksack)//2])\n",
    "  compartment2 = set(rucksack[len(rucksack)//2:])\n",
    "  matching_set = compartment1 & compartment2\n",
    "  matching_char = list(matching_set)[0]\n",
    "  if matching_char.isupper():\n",
    "    total = total + ord(matching_char) - 38\n",
    "  else:\n",
    "    total = total + ord(matching_char) - 96\n",
    "\n",
    "print(total)"
   ]
  },
  {
   "cell_type": "code",
   "execution_count": 37,
   "metadata": {},
   "outputs": [
    {
     "name": "stdout",
     "output_type": "stream",
     "text": [
      "2342\n"
     ]
    }
   ],
   "source": [
    "groups = []\n",
    "total = 0\n",
    "for i in range(0, len(rucksacks), 3):\n",
    "  group_slice = slice(i, i + 3, 1)\n",
    "  groups.append(rucksacks[group_slice])\n",
    "for group in groups:\n",
    "  r1, r2, r3 = set(group[0]), set(group[1]), set(group[2])\n",
    "  matching_set = r1 & r2 & r3\n",
    "  matching_char = list(matching_set)[0]\n",
    "  if matching_char.isupper():\n",
    "    total = total + ord(matching_char) - 38\n",
    "  else:\n",
    "    total = total + ord(matching_char) - 96\n",
    "\n",
    "print(total)\n"
   ]
  }
 ],
 "metadata": {
  "kernelspec": {
   "display_name": "Python 3.10.6 64-bit",
   "language": "python",
   "name": "python3"
  },
  "language_info": {
   "codemirror_mode": {
    "name": "ipython",
    "version": 3
   },
   "file_extension": ".py",
   "mimetype": "text/x-python",
   "name": "python",
   "nbconvert_exporter": "python",
   "pygments_lexer": "ipython3",
   "version": "3.11.0"
  },
  "orig_nbformat": 4,
  "vscode": {
   "interpreter": {
    "hash": "e7370f93d1d0cde622a1f8e1c04877d8463912d04d973331ad4851f04de6915a"
   }
  }
 },
 "nbformat": 4,
 "nbformat_minor": 2
}
