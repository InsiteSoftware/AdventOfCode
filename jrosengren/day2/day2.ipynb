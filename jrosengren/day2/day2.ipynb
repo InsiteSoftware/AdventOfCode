{
 "cells": [
  {
   "cell_type": "code",
   "execution_count": 1,
   "metadata": {},
   "outputs": [],
   "source": [
    "f = open(\"input\", \"r\")\n",
    "strategy = f.read().splitlines()"
   ]
  },
  {
   "cell_type": "code",
   "execution_count": 2,
   "metadata": {},
   "outputs": [
    {
     "name": "stdout",
     "output_type": "stream",
     "text": [
      "Total score: 9241\n"
     ]
    }
   ],
   "source": [
    "# A for Rock, B for Paper, C for Scissors\n",
    "# X for Rock, Y for Paper, Z for Scissors\n",
    "# 1 for Rock, 2 for Paper, 3 for Scissors\n",
    "# 0 for loss, 3 for draw, 6 for win\n",
    "# print(f\"Strategy: {strategy}\")\n",
    "total_score = 0\n",
    "LOSS, DRAW, WIN = 0, 3, 6\n",
    "X, Y, Z = 1, 2, 3\n",
    "outcomes = {\"A X\": DRAW,\n",
    "            \"A Y\": WIN,\n",
    "            \"A Z\": LOSS,\n",
    "            \"B X\": LOSS,\n",
    "            \"B Y\": DRAW,\n",
    "            \"B Z\": WIN,\n",
    "            \"C X\": WIN,\n",
    "            \"C Y\": LOSS,\n",
    "            \"C Z\": DRAW}\n",
    "for round in strategy:\n",
    "  shape = globals()[round.split(\" \")[1]]\n",
    "  outcome = outcomes[round]\n",
    "  score = shape + outcome\n",
    "  total_score = total_score + score\n",
    "\n",
    "print(f\"Total score: {total_score}\")\n",
    "\n"
   ]
  },
  {
   "cell_type": "code",
   "execution_count": 3,
   "metadata": {},
   "outputs": [
    {
     "name": "stdout",
     "output_type": "stream",
     "text": [
      "Total score: 14610\n"
     ]
    }
   ],
   "source": [
    "# X means you need to lose, Y means you need to end the round in a draw, and Z means you need to win.\n",
    "# A for Rock, B for Paper, C for Scissors\n",
    "# X for Rock, Y for Paper, Z for Scissors\n",
    "total_score = 0\n",
    "outcomes = {\"A X\": [LOSS, \"Z\"],\n",
    "            \"A Y\": [DRAW, \"X\"],\n",
    "            \"A Z\": [WIN, \"Y\"],\n",
    "            \"B X\": [LOSS, \"X\"],\n",
    "            \"B Y\": [DRAW, \"Y\"],\n",
    "            \"B Z\": [WIN, \"Z\"],\n",
    "            \"C X\": [LOSS, \"Y\"],\n",
    "            \"C Y\": [DRAW, \"Z\"],\n",
    "            \"C Z\": [WIN, \"X\"]}\n",
    "for round in strategy:\n",
    "  shape = globals()[outcomes[round][1]]\n",
    "  outcome = outcomes[round][0]\n",
    "  score = shape + outcome\n",
    "  total_score = total_score + score\n",
    "\n",
    "print(f\"Total score: {total_score}\")"
   ]
  }
 ],
 "metadata": {
  "kernelspec": {
   "display_name": "Python 3.11.0 64-bit",
   "language": "python",
   "name": "python3"
  },
  "language_info": {
   "codemirror_mode": {
    "name": "ipython",
    "version": 3
   },
   "file_extension": ".py",
   "mimetype": "text/x-python",
   "name": "python",
   "nbconvert_exporter": "python",
   "pygments_lexer": "ipython3",
   "version": "3.11.0"
  },
  "orig_nbformat": 4,
  "vscode": {
   "interpreter": {
    "hash": "5c7b89af1651d0b8571dde13640ecdccf7d5a6204171d6ab33e7c296e100e08a"
   }
  }
 },
 "nbformat": 4,
 "nbformat_minor": 2
}
