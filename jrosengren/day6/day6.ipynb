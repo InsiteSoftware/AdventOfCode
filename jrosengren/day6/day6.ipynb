{
 "cells": [
  {
   "cell_type": "code",
   "execution_count": 26,
   "metadata": {},
   "outputs": [],
   "source": [
    "f = open(\"input\", \"r\")\n",
    "signal = f.read()\n",
    "# signal = \"mjqjpqmgbljsphdztnvjfqwrcgsmlb\"\n",
    "# signal = \"bvwbjplbgvbhsrlpgdmjqwftvncz\"\n",
    "# signal = \"nppdvjthqldpwncqszvftbrmjlhg\"\n",
    "# signal = \"nznrnfrfntjfmvfwmzdfjlvtqnbhcprsg\"\n",
    "# signal = \"zcfzfwzzqfrljwzlrfnpqdbhtmscgvjw\""
   ]
  },
  {
   "cell_type": "code",
   "execution_count": 29,
   "metadata": {},
   "outputs": [
    {
     "name": "stdout",
     "output_type": "stream",
     "text": [
      "1175\n",
      "3217\n"
     ]
    }
   ],
   "source": [
    "# print(signal)\n",
    "signal_array = [char for char in signal]\n",
    "# print(signal_array)\n",
    "processed = []\n",
    "for char in signal_array:\n",
    "  # print(processed[-4:])\n",
    "  # print(f\"Unique Index: {unique}\")\n",
    "  processed.append(char)\n",
    "  if len(processed) <= 3:\n",
    "    continue\n",
    "  elif len(processed[-4:]) == len(set(processed[-4:])):\n",
    "    break\n",
    "sop = len(processed)\n",
    "print(sop)\n",
    "\n",
    "signal_array = signal_array[sop:]\n",
    "# print(signal_array)\n",
    "processed = []\n",
    "for char in signal_array:\n",
    "  processed.append(char)\n",
    "  # print(processed[-14:])\n",
    "  if len(processed) <= 13:\n",
    "    continue\n",
    "  elif len(processed[-14:]) == len(set(processed[-14:])):\n",
    "    break\n",
    "som = len(processed) + sop\n",
    "print(som)"
   ]
  }
 ],
 "metadata": {
  "kernelspec": {
   "display_name": "Python 3.11.0 64-bit",
   "language": "python",
   "name": "python3"
  },
  "language_info": {
   "codemirror_mode": {
    "name": "ipython",
    "version": 3
   },
   "file_extension": ".py",
   "mimetype": "text/x-python",
   "name": "python",
   "nbconvert_exporter": "python",
   "pygments_lexer": "ipython3",
   "version": "3.11.0"
  },
  "orig_nbformat": 4,
  "vscode": {
   "interpreter": {
    "hash": "5c7b89af1651d0b8571dde13640ecdccf7d5a6204171d6ab33e7c296e100e08a"
   }
  }
 },
 "nbformat": 4,
 "nbformat_minor": 2
}
