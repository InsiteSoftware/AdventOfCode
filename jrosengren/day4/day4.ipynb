{
 "cells": [
  {
   "cell_type": "code",
   "execution_count": 99,
   "metadata": {},
   "outputs": [],
   "source": [
    "f = open(\"input\", \"r\")\n",
    "pairs = f.read().splitlines()\n",
    "\n",
    "def range_subset(range1, range2):\n",
    "    return range1.start in range2 and range1[len(range1)-1] in range2\n",
    "\n",
    "def range_overlap(range1, range2):\n",
    "    return range1.start in range2 or range1[len(range1)-1] in range2"
   ]
  },
  {
   "cell_type": "code",
   "execution_count": 100,
   "metadata": {},
   "outputs": [
    {
     "name": "stdout",
     "output_type": "stream",
     "text": [
      "599\n",
      "928\n"
     ]
    }
   ],
   "source": [
    "containing_pairs = 0\n",
    "overlapping_pairs = 0\n",
    "for pair in pairs:\n",
    "  pair1, pair2 = pair.split(\",\")[0], pair.split(\",\")[1]\n",
    "  range1 = range(int(pair1.split(\"-\")[0]), int(pair1.split(\"-\")[1])+1)\n",
    "  range2 = range(int(pair2.split(\"-\")[0]), int(pair2.split(\"-\")[1])+1)\n",
    "  if (range_subset(range1, range2) or range_subset(range2, range1)):\n",
    "    containing_pairs += 1\n",
    "  if (range_overlap(range1, range2) or range_overlap(range2, range1)):\n",
    "    overlapping_pairs += 1\n",
    "  \n",
    "print(containing_pairs)\n",
    "print(overlapping_pairs)"
   ]
  }
 ],
 "metadata": {
  "kernelspec": {
   "display_name": "Python 3.11.0 64-bit",
   "language": "python",
   "name": "python3"
  },
  "language_info": {
   "codemirror_mode": {
    "name": "ipython",
    "version": 3
   },
   "file_extension": ".py",
   "mimetype": "text/x-python",
   "name": "python",
   "nbconvert_exporter": "python",
   "pygments_lexer": "ipython3",
   "version": "3.11.0"
  },
  "orig_nbformat": 4,
  "vscode": {
   "interpreter": {
    "hash": "e7370f93d1d0cde622a1f8e1c04877d8463912d04d973331ad4851f04de6915a"
   }
  }
 },
 "nbformat": 4,
 "nbformat_minor": 2
}
