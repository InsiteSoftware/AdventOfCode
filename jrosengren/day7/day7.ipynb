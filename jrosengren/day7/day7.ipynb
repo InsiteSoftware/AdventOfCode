{
 "cells": [
  {
   "cell_type": "code",
   "execution_count": 17,
   "metadata": {},
   "outputs": [
    {
     "name": "stdout",
     "output_type": "stream",
     "text": [
      "1783610\n",
      "4370655\n"
     ]
    }
   ],
   "source": [
    "from collections import defaultdict\n",
    "\n",
    "f = open(\"input\", \"r\")\n",
    "input = f.readlines()\n",
    "\n",
    "SIZE = defaultdict(int)\n",
    "path = []\n",
    "for line in input:\n",
    "  words = line.strip().split()\n",
    "  if words[1] == \"ls\":\n",
    "    continue\n",
    "  elif words[0] == \"dir\":\n",
    "    continue\n",
    "  elif words[1] == \"cd\":\n",
    "    if words[2] == \"..\":\n",
    "      path.pop()\n",
    "    else:\n",
    "      path.append(words[2])\n",
    "  else:\n",
    "    size = int(words[0])\n",
    "    for i in range(len(path)+1):\n",
    "      SIZE[\"/\".join(path[:i])] += size\n",
    "\n",
    "max_used = 70000000 - 30000000\n",
    "total_used = SIZE[\"/\"]\n",
    "need_to_free = total_used - max_used\n",
    "\n",
    "p1 = 0\n",
    "p2 = 1e9\n",
    "for k,v in SIZE.items():\n",
    "  # print(k,v)\n",
    "  if v <= 100000:\n",
    "    p1 += v\n",
    "  if v >= need_to_free:\n",
    "    p2 = min(p2, v)\n",
    "\n",
    "print(p1)\n",
    "print(p2)"
   ]
  }
 ],
 "metadata": {
  "kernelspec": {
   "display_name": "Python 3.11.0 64-bit",
   "language": "python",
   "name": "python3"
  },
  "language_info": {
   "codemirror_mode": {
    "name": "ipython",
    "version": 3
   },
   "file_extension": ".py",
   "mimetype": "text/x-python",
   "name": "python",
   "nbconvert_exporter": "python",
   "pygments_lexer": "ipython3",
   "version": "3.11.0"
  },
  "orig_nbformat": 4,
  "vscode": {
   "interpreter": {
    "hash": "5c7b89af1651d0b8571dde13640ecdccf7d5a6204171d6ab33e7c296e100e08a"
   }
  }
 },
 "nbformat": 4,
 "nbformat_minor": 2
}
