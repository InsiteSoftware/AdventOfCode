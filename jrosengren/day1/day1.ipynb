{
 "cells": [
  {
   "cell_type": "code",
   "execution_count": 63,
   "metadata": {},
   "outputs": [],
   "source": [
    "f = open(\"input\", \"r\")\n",
    "text = f.read()"
   ]
  },
  {
   "cell_type": "code",
   "execution_count": 64,
   "metadata": {},
   "outputs": [
    {
     "name": "stdout",
     "output_type": "stream",
     "text": [
      "69795\n",
      "208437\n"
     ]
    }
   ],
   "source": [
    "groups = text.split(\"\\n\\n\")\n",
    "elves = []\n",
    "for elf in groups:\n",
    "  elf_calories = elf.split(\"\\n\")\n",
    "  elf_calories\n",
    "  elves.append(elf_calories)\n",
    "\n",
    "max = 0\n",
    "totals = []\n",
    "for elf in elves:\n",
    "  total_calories = sum([int(x) for x in elf])\n",
    "  totals.append(total_calories)\n",
    "  if total_calories > max:\n",
    "    max = total_calories\n",
    "\n",
    "print(max)\n",
    "\n",
    "top3 = sorted(totals, reverse=True)[:3]\n",
    "total_top3 = sum([int(x) for x in top3])\n",
    "\n",
    "print(total_top3)\n"
   ]
  }
 ],
 "metadata": {
  "kernelspec": {
   "display_name": "Python 3.11.0 64-bit",
   "language": "python",
   "name": "python3"
  },
  "language_info": {
   "codemirror_mode": {
    "name": "ipython",
    "version": 3
   },
   "file_extension": ".py",
   "mimetype": "text/x-python",
   "name": "python",
   "nbconvert_exporter": "python",
   "pygments_lexer": "ipython3",
   "version": "3.11.0"
  },
  "orig_nbformat": 4,
  "vscode": {
   "interpreter": {
    "hash": "5c7b89af1651d0b8571dde13640ecdccf7d5a6204171d6ab33e7c296e100e08a"
   }
  }
 },
 "nbformat": 4,
 "nbformat_minor": 2
}
