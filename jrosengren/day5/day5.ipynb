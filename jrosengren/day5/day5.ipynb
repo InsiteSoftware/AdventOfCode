{
 "cells": [
  {
   "cell_type": "code",
   "execution_count": 169,
   "metadata": {},
   "outputs": [],
   "source": [
    "import re\n",
    "from collections import OrderedDict\n",
    "\n",
    "f = open(\"starting-stacks\", \"r\")\n",
    "starting_stacks = f.read().splitlines()\n",
    "f = open(\"move-list\", \"r\")\n",
    "move_list = f.read().splitlines()\n",
    "starting_stacks = starting_stacks[:-1]\n",
    "search = re.compile(r\"^(\\[([A-Z])\\]|   ) (\\[([A-Z])\\]|   ) (\\[([A-Z])\\]|   ) (\\[([A-Z])\\]|   ) (\\[([A-Z])\\]|   ) (\\[([A-Z])\\]|   ) (\\[([A-Z])\\]|   ) (\\[([A-Z])\\]|   ) (\\[([A-Z])\\]|   )$\")\n",
    "# search = re.compile(r\"^(\\[([A-Z])\\]|   ) (\\[([A-Z])\\]|   ) (\\[([A-Z])\\]|   )$\")\n",
    "\n",
    "def move_crate_9000(columns, start, end, number):\n",
    "  for x in range(number):\n",
    "    columns[end].append(columns[start].pop())\n",
    "  return columns\n",
    "\n",
    "def move_crate_9001(columns, start, end, number):\n",
    "  print(f\"Starting columns: {columns}\")\n",
    "  columns[end].extend(columns[start][-number:])\n",
    "  columns[start] = columns[start][:-number]\n",
    "  print(f\"Ending columns: {columns}\")\n",
    "  return columns"
   ]
  },
  {
   "cell_type": "code",
   "execution_count": 173,
   "metadata": {},
   "outputs": [
    {
     "name": "stdout",
     "output_type": "stream",
     "text": [
      "move 1 from 2 to 1\n",
      "Starting columns: OrderedDict([(1, ['Z', 'N']), (2, ['M', 'C', 'D']), (3, ['P'])])\n",
      "Ending columns: OrderedDict([(1, ['Z', 'N', 'D']), (2, ['M', 'C']), (3, ['P'])])\n",
      "OrderedDict([(1, ['Z', 'N', 'D']), (2, ['M', 'C']), (3, ['P'])])\n",
      "move 3 from 1 to 3\n",
      "Starting columns: OrderedDict([(1, ['Z', 'N', 'D']), (2, ['M', 'C']), (3, ['P'])])\n",
      "Ending columns: OrderedDict([(1, []), (2, ['M', 'C']), (3, ['P', 'Z', 'N', 'D'])])\n",
      "OrderedDict([(1, []), (2, ['M', 'C']), (3, ['P', 'Z', 'N', 'D'])])\n",
      "move 2 from 2 to 1\n",
      "Starting columns: OrderedDict([(1, []), (2, ['M', 'C']), (3, ['P', 'Z', 'N', 'D'])])\n",
      "Ending columns: OrderedDict([(1, ['M', 'C']), (2, []), (3, ['P', 'Z', 'N', 'D'])])\n",
      "OrderedDict([(1, ['M', 'C']), (2, []), (3, ['P', 'Z', 'N', 'D'])])\n",
      "move 1 from 1 to 2\n",
      "Starting columns: OrderedDict([(1, ['M', 'C']), (2, []), (3, ['P', 'Z', 'N', 'D'])])\n",
      "Ending columns: OrderedDict([(1, ['M']), (2, ['C']), (3, ['P', 'Z', 'N', 'D'])])\n",
      "OrderedDict([(1, ['M']), (2, ['C']), (3, ['P', 'Z', 'N', 'D'])])\n",
      "OrderedDict([(1, ['M']), (2, ['C']), (3, ['P', 'Z', 'N', 'D'])])\n",
      "MCD\n"
     ]
    }
   ],
   "source": [
    "#     [D]    \n",
    "# [N] [C]    \n",
    "# [Z] [M] [P]\n",
    "#  1   2   3 \n",
    "\n",
    "# move 1 from 2 to 1\n",
    "# move 3 from 1 to 3\n",
    "# move 2 from 2 to 1\n",
    "# move 1 from 1 to 2\n",
    "# print(starting_stacks)\n",
    "rows = OrderedDict()\n",
    "index = len(starting_stacks)\n",
    "columns = OrderedDict()\n",
    "for column in range(9):\n",
    "  column += 1\n",
    "  columns[column] = []\n",
    "for stack in starting_stacks:\n",
    "  result = search.search(stack)\n",
    "  rows[index] = result.group(2,4,6)\n",
    "  index -= 1\n",
    "# print(rows)\n",
    "# print(columns)\n",
    "for index, row in reversed(rows.items()):\n",
    "  # print(index, row)\n",
    "  # print(columns)\n",
    "  column = 1\n",
    "  for crate in row:\n",
    "    if crate != None:\n",
    "      columns[column].append(crate)\n",
    "    column += 1\n",
    "  # print(columns)\n",
    "# print(columns)\n",
    "\n",
    "# print(move_list)\n",
    "for move in move_list:\n",
    "  print(move)\n",
    "  result = re.search(r\"move (\\d+) from (\\d+) to (\\d+)\", move)\n",
    "  # columns_9000 = move_crate_9000(columns, int(result.group(2)), int(result.group(3)), int(result.group(1)))\n",
    "  columns_9001 = move_crate_9001(columns, int(result.group(2)), int(result.group(3)), int(result.group(1)))\n",
    "  print(columns_9001)\n",
    "  \n",
    "# print(columns_9000)\n",
    "print(columns_9001)\n",
    "\n",
    "# tops = []\n",
    "# for index in columns_9000:\n",
    "#   # print(index)\n",
    "#   tops.append(columns_9000[index].pop())\n",
    "# print(\"\".join(tops))\n",
    "\n",
    "tops = []\n",
    "for index in columns_9001:\n",
    "  # print(index)\n",
    "  tops.append(columns_9001[index].pop())\n",
    "print(\"\".join(tops))"
   ]
  },
  {
   "cell_type": "code",
   "execution_count": null,
   "metadata": {},
   "outputs": [],
   "source": []
  }
 ],
 "metadata": {
  "kernelspec": {
   "display_name": "Python 3.11.0 64-bit",
   "language": "python",
   "name": "python3"
  },
  "language_info": {
   "codemirror_mode": {
    "name": "ipython",
    "version": 3
   },
   "file_extension": ".py",
   "mimetype": "text/x-python",
   "name": "python",
   "nbconvert_exporter": "python",
   "pygments_lexer": "ipython3",
   "version": "3.11.0"
  },
  "orig_nbformat": 4,
  "vscode": {
   "interpreter": {
    "hash": "5c7b89af1651d0b8571dde13640ecdccf7d5a6204171d6ab33e7c296e100e08a"
   }
  }
 },
 "nbformat": 4,
 "nbformat_minor": 2
}
